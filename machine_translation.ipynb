{
 "cells": [
  {
   "cell_type": "code",
   "execution_count": 8,
   "metadata": {},
   "outputs": [
    {
     "name": "stdout",
     "output_type": "stream",
     "text": [
      "[[ 2 35 60 74 34]\n",
      " [ 6 26 30 94 76]\n",
      " [53  1  6 36  6]] [[14  8 27 15 13]\n",
      " [42 34 39 35 10]\n",
      " [25 38 43 15 26]]\n"
     ]
    }
   ],
   "source": [
    "import numpy as np\n",
    "\n",
    "a = np.random.randint(1, 99, (3,5))\n",
    "b = np.random.randint(7,44, (3,5))\n",
    "print(a, b)\n"
   ]
  },
  {
   "cell_type": "code",
   "execution_count": 10,
   "metadata": {},
   "outputs": [
    {
     "name": "stdout",
     "output_type": "stream",
     "text": [
      "[ 53.37602458  43.61192497  67.34983296 124.93198149  83.47454702]\n"
     ]
    }
   ],
   "source": [
    "norm = np.linalg.norm(a, axis = 0)\n",
    "print(norm)\n",
    "dot = np.dot(a.T,b)"
   ]
  },
  {
   "attachments": {},
   "cell_type": "markdown",
   "metadata": {},
   "source": [
    "creating word embeddings\n",
    "\n",
    "https://towardsdatascience.com/creating-word-embeddings-coding-the-word2vec-algorithm-in-python-using-deep-learning-b337d0ba17a8\n",
    "\n",
    "Glove - https://nlp.stanford.edu/projects/glove/"
   ]
  },
  {
   "attachments": {},
   "cell_type": "markdown",
   "metadata": {},
   "source": [
    "one hot encoding\n",
    "distributed encoding\n",
    "svd\n",
    "\n"
   ]
  }
 ],
 "metadata": {
  "kernelspec": {
   "display_name": "py3env",
   "language": "python",
   "name": "python3"
  },
  "language_info": {
   "codemirror_mode": {
    "name": "ipython",
    "version": 3
   },
   "file_extension": ".py",
   "mimetype": "text/x-python",
   "name": "python",
   "nbconvert_exporter": "python",
   "pygments_lexer": "ipython3",
   "version": "3.8.10 (tags/v3.8.10:3d8993a, May  3 2021, 11:48:03) [MSC v.1928 64 bit (AMD64)]"
  },
  "orig_nbformat": 4,
  "vscode": {
   "interpreter": {
    "hash": "62b2a5d410919abce751315a04f92d02b6bd2fe650dc27c29c734757cde8cdb7"
   }
  }
 },
 "nbformat": 4,
 "nbformat_minor": 2
}
